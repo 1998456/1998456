{
  "nbformat": 4,
  "nbformat_minor": 0,
  "metadata": {
    "colab": {
      "provenance": [],
      "authorship_tag": "ABX9TyMN8MgLXlC2hLlua1vFdtwS",
      "include_colab_link": true
    },
    "kernelspec": {
      "name": "python3",
      "display_name": "Python 3"
    },
    "language_info": {
      "name": "python"
    }
  },
  "cells": [
    {
      "cell_type": "markdown",
      "metadata": {
        "id": "view-in-github",
        "colab_type": "text"
      },
      "source": [
        "<a href=\"https://colab.research.google.com/github/1998456/1998456/blob/main/Chatbot(Project)Echobot.ipynb\" target=\"_parent\"><img src=\"https://colab.research.google.com/assets/colab-badge.svg\" alt=\"Open In Colab\"/></a>"
      ]
    },
    {
      "cell_type": "code",
      "execution_count": 1,
      "metadata": {
        "id": "RyBhM1oTWAsv",
        "colab": {
          "base_uri": "https://localhost:8080/"
        },
        "outputId": "a4008b52-292b-4210-d61d-0c2123b8a68d"
      },
      "outputs": [
        {
          "output_type": "stream",
          "name": "stdout",
          "text": [
            "I can hear you!You said:hello!\n"
          ]
        }
      ],
      "source": [
        "#create_templates;\n",
        "bot_template=\"BOT:{0}\"\n",
        "user_template=\"USER:{0}\"\n",
        "\n",
        "def respond(message):\n",
        "    bot_message=\"I can hear you!You said:\"+ message\n",
        "    return bot_message\n",
        "print(respond(\"hello!\"))"
      ]
    },
    {
      "cell_type": "code",
      "source": [
        "#create templates;\n",
        "bot_template= \"BOT:{0}\"\n",
        "user_template= \"USER:{0}\"\n",
        "\n",
        "def send_message(message):\n",
        "    print(user_template.format(message))\n",
        "    response=respond(message)\n",
        "    print(bot_template.format(response))\n",
        "\n",
        "print(send_message(\"Damit\"))"
      ],
      "metadata": {
        "id": "QlsvxvBpWCaS",
        "colab": {
          "base_uri": "https://localhost:8080/"
        },
        "outputId": "915d8724-7d6a-4199-8863-d642c37ae639"
      },
      "execution_count": 9,
      "outputs": [
        {
          "output_type": "stream",
          "name": "stdout",
          "text": [
            "USER:Damit\n",
            "BOT:I can hear you!You said:Damit\n",
            "None\n"
          ]
        }
      ]
    },
    {
      "cell_type": "code",
      "source": [],
      "metadata": {
        "id": "F86glahdWCzV"
      },
      "execution_count": null,
      "outputs": []
    },
    {
      "cell_type": "code",
      "source": [],
      "metadata": {
        "id": "sDAm2MsiWDGb"
      },
      "execution_count": null,
      "outputs": []
    },
    {
      "cell_type": "code",
      "source": [],
      "metadata": {
        "id": "h_HBGjfuWDRi"
      },
      "execution_count": null,
      "outputs": []
    }
  ]
}