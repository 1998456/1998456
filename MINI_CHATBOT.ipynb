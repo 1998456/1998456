{
  "nbformat": 4,
  "nbformat_minor": 0,
  "metadata": {
    "colab": {
      "provenance": [],
      "authorship_tag": "ABX9TyPV4Zn+6d9uvGm6v6SKmDpY",
      "include_colab_link": true
    },
    "kernelspec": {
      "name": "python3",
      "display_name": "Python 3"
    },
    "language_info": {
      "name": "python"
    }
  },
  "cells": [
    {
      "cell_type": "markdown",
      "metadata": {
        "id": "view-in-github",
        "colab_type": "text"
      },
      "source": [
        "<a href=\"https://colab.research.google.com/github/1998456/1998456/blob/main/MINI_CHATBOT.ipynb\" target=\"_parent\"><img src=\"https://colab.research.google.com/assets/colab-badge.svg\" alt=\"Open In Colab\"/></a>"
      ]
    },
    {
      "cell_type": "markdown",
      "source": [
        "ECHO_BOT"
      ],
      "metadata": {
        "id": "SSRDrCgazgg3"
      }
    },
    {
      "cell_type": "code",
      "execution_count": 47,
      "metadata": {
        "id": "Uj0WNi-jzDJU"
      },
      "outputs": [],
      "source": [
        "def respond (message):\n",
        "    bot_message=(\"I can hear you!,you said:\" + message)\n",
        "    return bot_message"
      ]
    },
    {
      "cell_type": "code",
      "source": [
        "respond(\"Dam bro\")"
      ],
      "metadata": {
        "colab": {
          "base_uri": "https://localhost:8080/",
          "height": 53
        },
        "id": "sOQPt9IQzERM",
        "outputId": "1e379915-b50d-46fd-c1f6-51668b1c7187"
      },
      "execution_count": 48,
      "outputs": [
        {
          "output_type": "execute_result",
          "data": {
            "text/plain": [
              "'I can hear you!,you said:Dam bro'"
            ],
            "application/vnd.google.colaboratory.intrinsic+json": {
              "type": "string"
            }
          },
          "metadata": {},
          "execution_count": 48
        }
      ]
    },
    {
      "cell_type": "markdown",
      "source": [
        "CHIT_CHAT"
      ],
      "metadata": {
        "id": "khNSGbIf2IEx"
      }
    },
    {
      "cell_type": "code",
      "source": [
        "name=\"Daves\"\n",
        "weather=\"stormy\"\n",
        "\n",
        "responses={\"what's your name?\":\"I go by {0}\".format(name),\n",
        "           \"what was the weather like today?\":\"Hmmm,kinda {0} i think\".format(\n",
        "            weather),\n",
        "            \"default\": \"default_message\"}\n",
        "\n",
        "#Control;\n",
        "def respond(message):\n",
        "    if message in responses:\n",
        "       bot_message= responses[message]\n",
        "    else:\n",
        "        bot_message= responses[\"default\"]\n",
        "    return bot_message"
      ],
      "metadata": {
        "id": "gTgwFdzAzEno"
      },
      "execution_count": 49,
      "outputs": []
    },
    {
      "cell_type": "code",
      "source": [
        "respond(\"what's your name?\")"
      ],
      "metadata": {
        "colab": {
          "base_uri": "https://localhost:8080/",
          "height": 36
        },
        "id": "dsXXfGUWzE8s",
        "outputId": "c5012d31-9c76-4f4c-ebdc-70f040ca6c7a"
      },
      "execution_count": 51,
      "outputs": [
        {
          "output_type": "execute_result",
          "data": {
            "text/plain": [
              "'I go by Daves'"
            ],
            "application/vnd.google.colaboratory.intrinsic+json": {
              "type": "string"
            }
          },
          "metadata": {},
          "execution_count": 51
        }
      ]
    },
    {
      "cell_type": "markdown",
      "source": [
        "STD_RESPONSE"
      ],
      "metadata": {
        "id": "-sglJEviAML6"
      }
    },
    {
      "cell_type": "code",
      "source": [
        "bot_template= \"BOT:{0}\"\n",
        "user_template= \"USER:{0}\"\n",
        "\n",
        "#Control:\n",
        "def send_message(message):\n",
        "    print(user_template.format(message))\n",
        "    response= respond(message)\n",
        "    print(bot_template.format(response))"
      ],
      "metadata": {
        "id": "SqDMnSCJ-M_h"
      },
      "execution_count": 52,
      "outputs": []
    },
    {
      "cell_type": "code",
      "source": [
        "print(send_message(\"what's your name?\"))"
      ],
      "metadata": {
        "colab": {
          "base_uri": "https://localhost:8080/"
        },
        "id": "JkkBu0Jb-NfL",
        "outputId": "f3f88122-df1d-452f-91ca-e1e4f6cc12a1"
      },
      "execution_count": 53,
      "outputs": [
        {
          "output_type": "stream",
          "name": "stdout",
          "text": [
            "USER:what's your name?\n",
            "BOT:I go by Daves\n",
            "None\n"
          ]
        }
      ]
    },
    {
      "cell_type": "markdown",
      "source": [
        "# Lengthy_talk"
      ],
      "metadata": {
        "id": "ZkveM7ymFOtn"
      }
    },
    {
      "cell_type": "code",
      "source": [
        "import random\n",
        "name= \"Daves\"\n",
        "weather= \"stormy\"\n",
        "\n",
        "#Responses;\n",
        "responses= {\"what's your name?\":[\"I go by {0}\".format(name),\"call me {0}\".format(name),\"my nigga calls me {0}\".format(name),\"I'm cool with {0} bruv\".format(name),\"I'm {0} ,babe\".format(name)],\n",
        "           \"what was the weather like?\":[\"I'll say {0}\".format(weather),\"kinda {0} babe\".format(weather),\"Pretty {0} bruv\".format(weather),\"Really {0} nigga\".format(weather)],\n",
        "           \"default\":[\"default message\"]}\n",
        "\n",
        "#Control;\n",
        "def respond (message):\n",
        "    if message in responses:\n",
        "       bot_message= random.choice(responses[message])\n",
        "    else:\n",
        "       bot_message= random.choice(responses[message])\n",
        "    return bot_message"
      ],
      "metadata": {
        "id": "ZCVPMBUFDABG"
      },
      "execution_count": 59,
      "outputs": []
    },
    {
      "cell_type": "code",
      "source": [
        "bot_template= \"BOT:{0}\"\n",
        "user_template= \"USER:{0}\"\n",
        "\n",
        "#Control:\n",
        "def send_message(message):\n",
        "    print(user_template.format(message))\n",
        "    response= respond(message)\n",
        "    print(bot_template.format(response))"
      ],
      "metadata": {
        "id": "w6kQZRXRDAnx"
      },
      "execution_count": 55,
      "outputs": []
    },
    {
      "cell_type": "code",
      "source": [
        "send_message(\"what was the weather like?\")"
      ],
      "metadata": {
        "colab": {
          "base_uri": "https://localhost:8080/"
        },
        "id": "zBnm_A0mDBYf",
        "outputId": "7df0a405-ab8a-45b7-8250-077b836b4ad0"
      },
      "execution_count": 65,
      "outputs": [
        {
          "output_type": "stream",
          "name": "stdout",
          "text": [
            "USER:what was the weather like?\n",
            "BOT:kinda stormy babe\n"
          ]
        }
      ]
    },
    {
      "cell_type": "code",
      "source": [],
      "metadata": {
        "id": "XBiNJ7bYzFR4"
      },
      "execution_count": null,
      "outputs": []
    },
    {
      "cell_type": "code",
      "source": [],
      "metadata": {
        "id": "NyguIX12zFjF"
      },
      "execution_count": null,
      "outputs": []
    }
  ]
}